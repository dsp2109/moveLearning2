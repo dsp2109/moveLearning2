{
 "cells": [
  {
   "cell_type": "code",
   "execution_count": 2,
   "metadata": {},
   "outputs": [],
   "source": [
    "#!/usr/bin/env python\n",
    "import argparse\n",
    "from baselines import bench #, logger\n",
    "\n",
    "\n"
   ]
  },
  {
   "cell_type": "code",
   "execution_count": 4,
   "metadata": {},
   "outputs": [],
   "source": [
    "def train(env_id, num_timesteps, seed):\n",
    "    from baselines.common import set_global_seeds\n",
    "    from baselines.common.vec_env.vec_normalize import VecNormalize\n",
    "    from baselines.ppo2 import ppo2\n",
    "    from baselines.ppo2.policies import MlpPolicy\n",
    "    import gym\n",
    "    import tensorflow as tf\n",
    "    from baselines.common.vec_env.dummy_vec_env import DummyVecEnv\n",
    "    ncpu = 1\n",
    "    config = tf.ConfigProto(allow_soft_placement=True,\n",
    "                            intra_op_parallelism_threads=ncpu,\n",
    "                            inter_op_parallelism_threads=ncpu)\n",
    "    tf.Session(config=config).__enter__()\n",
    "    def make_env():\n",
    "        env = gym.make(env_id)\n",
    "        #env = bench.Monitor(env, logger.get_dir())\n",
    "        return env\n",
    "    env = DummyVecEnv([make_env])\n",
    "    env = VecNormalize(env)\n",
    "\n",
    "    set_global_seeds(seed)\n",
    "    policy = MlpPolicy\n",
    "    ppo2.learn(policy=policy, env=env, nsteps=2048, nminibatches=32,\n",
    "        lam=0.95, gamma=0.99, noptepochs=10, log_interval=1,\n",
    "        ent_coef=0.0,\n",
    "        lr=3e-4,\n",
    "        cliprange=0.2,\n",
    "        total_timesteps=num_timesteps)\n",
    "\n",
    "\n",
    "\n"
   ]
  },
  {
   "cell_type": "code",
   "execution_count": 5,
   "metadata": {},
   "outputs": [],
   "source": [
    "\n",
    "def main():\n",
    "    parser = argparse.ArgumentParser(formatter_class=argparse.ArgumentDefaultsHelpFormatter)\n",
    "    parser.add_argument('--env', help='environment ID', default='Hopper-v1')\n",
    "    parser.add_argument('--seed', help='RNG seed', type=int, default=0)\n",
    "    parser.add_argument('--num-timesteps', type=int, default=int(1e6))\n",
    "    args = parser.parse_args()\n",
    "    logger.configure()\n",
    "    train(args.env, num_timesteps=args.num_timesteps, seed=args.seed)\n"
   ]
  },
  {
   "cell_type": "code",
   "execution_count": 6,
   "metadata": {},
   "outputs": [
    {
     "name": "stderr",
     "output_type": "stream",
     "text": [
      "usage: ipykernel_launcher.py [-h] [--env ENV] [--seed SEED]\n",
      "                             [--num-timesteps NUM_TIMESTEPS]\n",
      "ipykernel_launcher.py: error: unrecognized arguments: -f C:\\Users\\dsp21\\AppData\\Roaming\\jupyter\\runtime\\kernel-745ffc4b-c80d-4904-9e73-389a189f629b.json\n"
     ]
    },
    {
     "ename": "SystemExit",
     "evalue": "2",
     "output_type": "error",
     "traceback": [
      "An exception has occurred, use %tb to see the full traceback.\n",
      "\u001b[1;31mSystemExit\u001b[0m\u001b[1;31m:\u001b[0m 2\n"
     ]
    },
    {
     "name": "stderr",
     "output_type": "stream",
     "text": [
      "c:\\users\\dsp21\\anaconda2\\envs\\tensorflow-gpu\\lib\\site-packages\\IPython\\core\\interactiveshell.py:2918: UserWarning: To exit: use 'exit', 'quit', or Ctrl-D.\n",
      "  warn(\"To exit: use 'exit', 'quit', or Ctrl-D.\", stacklevel=1)\n"
     ]
    }
   ],
   "source": [
    "if __name__ == '__main__':\n",
    "    main()"
   ]
  }
 ],
 "metadata": {
  "kernelspec": {
   "display_name": "Python 3",
   "language": "python",
   "name": "python3"
  }
 },
 "nbformat": 4,
 "nbformat_minor": 2
}
